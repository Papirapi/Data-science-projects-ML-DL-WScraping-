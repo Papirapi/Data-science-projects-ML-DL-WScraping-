{
  "nbformat": 4,
  "nbformat_minor": 0,
  "metadata": {
    "colab": {
      "name": "lstm_on_phone.ipynb",
      "version": "0.3.2",
      "provenance": [],
      "collapsed_sections": []
    },
    "kernelspec": {
      "name": "python3",
      "display_name": "Python 3"
    },
    "accelerator": "GPU"
  },
  "cells": [
    {
      "metadata": {
        "id": "FmT9g1NkaCAv",
        "colab_type": "code",
        "colab": {}
      },
      "cell_type": "code",
      "source": [
        "from google.colab import files\n",
        "import io"
      ],
      "execution_count": 0,
      "outputs": []
    },
    {
      "metadata": {
        "id": "TNH3ElXraEvF",
        "colab_type": "code",
        "colab": {
          "base_uri": "https://localhost:8080/",
          "height": 34
        },
        "outputId": "5affb4b6-2704-470c-9037-095716a03e79"
      },
      "cell_type": "code",
      "source": [
        "from keras.optimizers import Adam\n",
        "from keras.models import Sequential\n",
        "from keras.layers import Dense,LSTM\n",
        "from sklearn import preprocessing\n",
        "import numpy as np\n",
        "from sklearn.model_selection import train_test_split\n",
        "from sklearn.preprocessing import scale\n",
        "import matplotlib.pyplot as plt"
      ],
      "execution_count": 0,
      "outputs": [
        {
          "output_type": "stream",
          "text": [
            "Using TensorFlow backend.\n"
          ],
          "name": "stderr"
        }
      ]
    },
    {
      "metadata": {
        "id": "B0VpUuHTaNQq",
        "colab_type": "code",
        "colab": {
          "resources": {
            "http://localhost:8080/nbextensions/google.colab/files.js": {
              "data": "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",
              "ok": true,
              "headers": [
                [
                  "content-type",
                  "application/javascript"
                ]
              ],
              "status": 200,
              "status_text": ""
            }
          },
          "base_uri": "https://localhost:8080/",
          "height": 72
        },
        "outputId": "84259aae-e45c-49b3-d5b4-ff3aecee2db0"
      },
      "cell_type": "code",
      "source": [
        "uploaded = files.upload()"
      ],
      "execution_count": 0,
      "outputs": [
        {
          "output_type": "display_data",
          "data": {
            "text/html": [
              "\n",
              "     <input type=\"file\" id=\"files-dc805825-9eb9-4bd5-8532-123e543a96e9\" name=\"files[]\" multiple disabled />\n",
              "     <output id=\"result-dc805825-9eb9-4bd5-8532-123e543a96e9\">\n",
              "      Upload widget is only available when the cell has been executed in the\n",
              "      current browser session. Please rerun this cell to enable.\n",
              "      </output>\n",
              "      <script src=\"/nbextensions/google.colab/files.js\"></script> "
            ],
            "text/plain": [
              "<IPython.core.display.HTML object>"
            ]
          },
          "metadata": {
            "tags": []
          }
        },
        {
          "output_type": "stream",
          "text": [
            "Saving huaweiMate10_DE_41.413753361505954%.csv to huaweiMate10_DE_41.413753361505954%.csv\n"
          ],
          "name": "stdout"
        }
      ]
    },
    {
      "metadata": {
        "id": "DismH_bwaWe2",
        "colab_type": "code",
        "colab": {
          "base_uri": "https://localhost:8080/",
          "height": 34
        },
        "outputId": "496eb9d6-3861-4aad-b588-e5200a8f7d55"
      },
      "cell_type": "code",
      "source": [
        "for fn in uploaded.keys():\n",
        "  print('User uploaded file \"{name}\" with length {length} bytes'.format(name=fn, length=len(uploaded[fn])))"
      ],
      "execution_count": 0,
      "outputs": [
        {
          "output_type": "stream",
          "text": [
            "User uploaded file \"huaweiMate10_DE_41.413753361505954%.csv\" with length 1258295 bytes\n"
          ],
          "name": "stdout"
        }
      ]
    },
    {
      "metadata": {
        "id": "vTUQ2L8jafED",
        "colab_type": "code",
        "colab": {}
      },
      "cell_type": "code",
      "source": [
        "import pandas as pd\n",
        "df = pd.read_csv(io.StringIO(uploaded['huaweiMate10_DE_41.413753361505954%.csv'].decode('utf-8')))"
      ],
      "execution_count": 0,
      "outputs": []
    },
    {
      "metadata": {
        "id": "0cpf9XkualUW",
        "colab_type": "code",
        "colab": {
          "base_uri": "https://localhost:8080/",
          "height": 289
        },
        "outputId": "a9cbdacd-8c08-4e77-9d0f-8794ba37eda4"
      },
      "cell_type": "code",
      "source": [
        "df.head()"
      ],
      "execution_count": 0,
      "outputs": [
        {
          "output_type": "execute_result",
          "data": {
            "text/html": [
              "<div>\n",
              "<style scoped>\n",
              "    .dataframe tbody tr th:only-of-type {\n",
              "        vertical-align: middle;\n",
              "    }\n",
              "\n",
              "    .dataframe tbody tr th {\n",
              "        vertical-align: top;\n",
              "    }\n",
              "\n",
              "    .dataframe thead th {\n",
              "        text-align: right;\n",
              "    }\n",
              "</style>\n",
              "<table border=\"1\" class=\"dataframe\">\n",
              "  <thead>\n",
              "    <tr style=\"text-align: right;\">\n",
              "      <th></th>\n",
              "      <th>timestamp</th>\n",
              "      <th>category</th>\n",
              "      <th>cleanName</th>\n",
              "      <th>country</th>\n",
              "      <th>market_name</th>\n",
              "      <th>memory</th>\n",
              "      <th>name</th>\n",
              "      <th>price</th>\n",
              "      <th>url</th>\n",
              "    </tr>\n",
              "  </thead>\n",
              "  <tbody>\n",
              "    <tr>\n",
              "      <th>0</th>\n",
              "      <td>2017-12-11 19:29:21</td>\n",
              "      <td>Phone</td>\n",
              "      <td>Mate 10 Pro</td>\n",
              "      <td>DE</td>\n",
              "      <td>Mate 10 Pro</td>\n",
              "      <td>128GB</td>\n",
              "      <td>Huawei Mate 10 Pro Smartphone (15,24 Cm(6 Zoll...</td>\n",
              "      <td>785.26</td>\n",
              "      <td>https://www.amazon.de/Huawei-Smartphone-intern...</td>\n",
              "    </tr>\n",
              "    <tr>\n",
              "      <th>1</th>\n",
              "      <td>2017-12-11 21:22:43</td>\n",
              "      <td>Phone</td>\n",
              "      <td>Mate 10 Pro</td>\n",
              "      <td>DE</td>\n",
              "      <td>Mate 10 Pro</td>\n",
              "      <td>128GB</td>\n",
              "      <td>Huawei Mate 10 Pro Smartphone (15,24 Cm(6 Zoll...</td>\n",
              "      <td>799.00</td>\n",
              "      <td>https://www.amazon.de/Huawei-Smartphone-intern...</td>\n",
              "    </tr>\n",
              "    <tr>\n",
              "      <th>2</th>\n",
              "      <td>2017-12-11 21:22:43</td>\n",
              "      <td>Phone</td>\n",
              "      <td>Mate 10 Pro</td>\n",
              "      <td>DE</td>\n",
              "      <td>Mate 10 Pro</td>\n",
              "      <td>128GB</td>\n",
              "      <td>Huawei Mate 10 Pro Smartphone (15,24 Cm(6 Zoll...</td>\n",
              "      <td>798.60</td>\n",
              "      <td>https://www.amazon.de/Huawei-Smartphone-intern...</td>\n",
              "    </tr>\n",
              "    <tr>\n",
              "      <th>3</th>\n",
              "      <td>2017-12-11 18:31:52</td>\n",
              "      <td>Phone</td>\n",
              "      <td>Mate 10 Pro</td>\n",
              "      <td>DE</td>\n",
              "      <td>Mate 10 Pro</td>\n",
              "      <td>128GB</td>\n",
              "      <td>Huawei Mate 10 Pro Smartphone (15,24 Cm(6 Zoll...</td>\n",
              "      <td>799.00</td>\n",
              "      <td>https://www.amazon.de/Huawei-Smartphone-intern...</td>\n",
              "    </tr>\n",
              "    <tr>\n",
              "      <th>4</th>\n",
              "      <td>2017-12-11 18:35:12</td>\n",
              "      <td>Phone</td>\n",
              "      <td>Mate 10 Pro</td>\n",
              "      <td>DE</td>\n",
              "      <td>Mate 10 Pro</td>\n",
              "      <td>128GB</td>\n",
              "      <td>Huawei Mate 10 Pro Smartphone (15,24 Cm(6 Zoll...</td>\n",
              "      <td>798.60</td>\n",
              "      <td>https://www.amazon.de/Huawei-Smartphone-intern...</td>\n",
              "    </tr>\n",
              "  </tbody>\n",
              "</table>\n",
              "</div>"
            ],
            "text/plain": [
              "             timestamp category    cleanName country  market_name memory  \\\n",
              "0  2017-12-11 19:29:21    Phone  Mate 10 Pro      DE  Mate 10 Pro  128GB   \n",
              "1  2017-12-11 21:22:43    Phone  Mate 10 Pro      DE  Mate 10 Pro  128GB   \n",
              "2  2017-12-11 21:22:43    Phone  Mate 10 Pro      DE  Mate 10 Pro  128GB   \n",
              "3  2017-12-11 18:31:52    Phone  Mate 10 Pro      DE  Mate 10 Pro  128GB   \n",
              "4  2017-12-11 18:35:12    Phone  Mate 10 Pro      DE  Mate 10 Pro  128GB   \n",
              "\n",
              "                                                name   price  \\\n",
              "0  Huawei Mate 10 Pro Smartphone (15,24 Cm(6 Zoll...  785.26   \n",
              "1  Huawei Mate 10 Pro Smartphone (15,24 Cm(6 Zoll...  799.00   \n",
              "2  Huawei Mate 10 Pro Smartphone (15,24 Cm(6 Zoll...  798.60   \n",
              "3  Huawei Mate 10 Pro Smartphone (15,24 Cm(6 Zoll...  799.00   \n",
              "4  Huawei Mate 10 Pro Smartphone (15,24 Cm(6 Zoll...  798.60   \n",
              "\n",
              "                                                 url  \n",
              "0  https://www.amazon.de/Huawei-Smartphone-intern...  \n",
              "1  https://www.amazon.de/Huawei-Smartphone-intern...  \n",
              "2  https://www.amazon.de/Huawei-Smartphone-intern...  \n",
              "3  https://www.amazon.de/Huawei-Smartphone-intern...  \n",
              "4  https://www.amazon.de/Huawei-Smartphone-intern...  "
            ]
          },
          "metadata": {
            "tags": []
          },
          "execution_count": 6
        }
      ]
    },
    {
      "metadata": {
        "id": "3ttOriRJan46",
        "colab_type": "code",
        "colab": {}
      },
      "cell_type": "code",
      "source": [
        "def converttoTimeSeries(DF,window):\n",
        "  DF.index = pd.to_datetime(DF['timestamp'])\n",
        "  DF = DF.resample('12H').mean()\n",
        "  DF.sort_index(inplace=True)\n",
        "  DF['t'] = [x for x in DF['price']]\n",
        "  DF['t-1'] = DF['t'].shift(1)\n",
        "  for i in range (1,window):\n",
        "    DF['t-'+str(i+1)] = DF['t-'+str(i)].shift(1)\n",
        "  DF.dropna(inplace=True)\n",
        "  DF.drop(['t'],1,inplace=True)\n",
        "  return(DF)"
      ],
      "execution_count": 0,
      "outputs": []
    },
    {
      "metadata": {
        "id": "qG1LWwWYassz",
        "colab_type": "code",
        "colab": {}
      },
      "cell_type": "code",
      "source": [
        "df = converttoTimeSeries(df,6)"
      ],
      "execution_count": 0,
      "outputs": []
    },
    {
      "metadata": {
        "id": "I7KqP-jvaxjN",
        "colab_type": "code",
        "colab": {
          "base_uri": "https://localhost:8080/",
          "height": 235
        },
        "outputId": "541cc966-7045-4e67-93f4-bcd0dc18fcbb"
      },
      "cell_type": "code",
      "source": [
        "df.head()"
      ],
      "execution_count": 0,
      "outputs": [
        {
          "output_type": "execute_result",
          "data": {
            "text/html": [
              "<div>\n",
              "<style scoped>\n",
              "    .dataframe tbody tr th:only-of-type {\n",
              "        vertical-align: middle;\n",
              "    }\n",
              "\n",
              "    .dataframe tbody tr th {\n",
              "        vertical-align: top;\n",
              "    }\n",
              "\n",
              "    .dataframe thead th {\n",
              "        text-align: right;\n",
              "    }\n",
              "</style>\n",
              "<table border=\"1\" class=\"dataframe\">\n",
              "  <thead>\n",
              "    <tr style=\"text-align: right;\">\n",
              "      <th></th>\n",
              "      <th>price</th>\n",
              "      <th>t-1</th>\n",
              "      <th>t-2</th>\n",
              "      <th>t-3</th>\n",
              "      <th>t-4</th>\n",
              "      <th>t-5</th>\n",
              "      <th>t-6</th>\n",
              "    </tr>\n",
              "    <tr>\n",
              "      <th>timestamp</th>\n",
              "      <th></th>\n",
              "      <th></th>\n",
              "      <th></th>\n",
              "      <th></th>\n",
              "      <th></th>\n",
              "      <th></th>\n",
              "      <th></th>\n",
              "    </tr>\n",
              "  </thead>\n",
              "  <tbody>\n",
              "    <tr>\n",
              "      <th>2017-12-10 12:00:00</th>\n",
              "      <td>799.000000</td>\n",
              "      <td>786.663333</td>\n",
              "      <td>790.852857</td>\n",
              "      <td>798.733333</td>\n",
              "      <td>799.000000</td>\n",
              "      <td>799.000000</td>\n",
              "      <td>798.562500</td>\n",
              "    </tr>\n",
              "    <tr>\n",
              "      <th>2017-12-11 00:00:00</th>\n",
              "      <td>798.600000</td>\n",
              "      <td>799.000000</td>\n",
              "      <td>786.663333</td>\n",
              "      <td>790.852857</td>\n",
              "      <td>798.733333</td>\n",
              "      <td>799.000000</td>\n",
              "      <td>799.000000</td>\n",
              "    </tr>\n",
              "    <tr>\n",
              "      <th>2017-12-11 12:00:00</th>\n",
              "      <td>798.192222</td>\n",
              "      <td>798.600000</td>\n",
              "      <td>799.000000</td>\n",
              "      <td>786.663333</td>\n",
              "      <td>790.852857</td>\n",
              "      <td>798.733333</td>\n",
              "      <td>799.000000</td>\n",
              "    </tr>\n",
              "    <tr>\n",
              "      <th>2017-12-12 00:00:00</th>\n",
              "      <td>799.000000</td>\n",
              "      <td>798.192222</td>\n",
              "      <td>798.600000</td>\n",
              "      <td>799.000000</td>\n",
              "      <td>786.663333</td>\n",
              "      <td>790.852857</td>\n",
              "      <td>798.733333</td>\n",
              "    </tr>\n",
              "    <tr>\n",
              "      <th>2017-12-12 12:00:00</th>\n",
              "      <td>792.621111</td>\n",
              "      <td>799.000000</td>\n",
              "      <td>798.192222</td>\n",
              "      <td>798.600000</td>\n",
              "      <td>799.000000</td>\n",
              "      <td>786.663333</td>\n",
              "      <td>790.852857</td>\n",
              "    </tr>\n",
              "  </tbody>\n",
              "</table>\n",
              "</div>"
            ],
            "text/plain": [
              "                          price         t-1         t-2         t-3  \\\n",
              "timestamp                                                             \n",
              "2017-12-10 12:00:00  799.000000  786.663333  790.852857  798.733333   \n",
              "2017-12-11 00:00:00  798.600000  799.000000  786.663333  790.852857   \n",
              "2017-12-11 12:00:00  798.192222  798.600000  799.000000  786.663333   \n",
              "2017-12-12 00:00:00  799.000000  798.192222  798.600000  799.000000   \n",
              "2017-12-12 12:00:00  792.621111  799.000000  798.192222  798.600000   \n",
              "\n",
              "                            t-4         t-5         t-6  \n",
              "timestamp                                                \n",
              "2017-12-10 12:00:00  799.000000  799.000000  798.562500  \n",
              "2017-12-11 00:00:00  798.733333  799.000000  799.000000  \n",
              "2017-12-11 12:00:00  790.852857  798.733333  799.000000  \n",
              "2017-12-12 00:00:00  786.663333  790.852857  798.733333  \n",
              "2017-12-12 12:00:00  799.000000  786.663333  790.852857  "
            ]
          },
          "metadata": {
            "tags": []
          },
          "execution_count": 9
        }
      ]
    },
    {
      "metadata": {
        "id": "uS5cM-Hja1jY",
        "colab_type": "code",
        "colab": {}
      },
      "cell_type": "code",
      "source": [
        "X = np.array(df.drop(['price'],1))\n",
        "y = np.array(df['price'])"
      ],
      "execution_count": 0,
      "outputs": []
    },
    {
      "metadata": {
        "id": "4gf8MWz4bBci",
        "colab_type": "code",
        "colab": {}
      },
      "cell_type": "code",
      "source": [
        "# LSTM for international airline passengers problem with window regression framing\n",
        "import numpy as np\n",
        "import matplotlib.pyplot as plt\n",
        "import pandas as pd\n",
        "import math\n",
        "from keras.models import Sequential\n",
        "from keras.layers import Dense\n",
        "from keras.layers import LSTM\n",
        "from sklearn.preprocessing import MinMaxScaler\n",
        "from sklearn.metrics import mean_squared_error\n",
        "from keras import optimizers"
      ],
      "execution_count": 0,
      "outputs": []
    },
    {
      "metadata": {
        "id": "ojlbC9eabk43",
        "colab_type": "code",
        "colab": {}
      },
      "cell_type": "code",
      "source": [
        "# normalize the dataset\n",
        "scaler = MinMaxScaler(feature_range=(0, 1))\n",
        "dataset = scaler.fit_transform(X)"
      ],
      "execution_count": 0,
      "outputs": []
    },
    {
      "metadata": {
        "id": "sIpjsogQcIqS",
        "colab_type": "code",
        "colab": {}
      },
      "cell_type": "code",
      "source": [
        "from sklearn.model_selection import  train_test_split\n",
        "X_train, X_test, y_train, y_test = train_test_split(X, y, test_size=0.20,shuffle=False)"
      ],
      "execution_count": 0,
      "outputs": []
    },
    {
      "metadata": {
        "id": "_LQj9n0IcMFg",
        "colab_type": "code",
        "colab": {}
      },
      "cell_type": "code",
      "source": [
        "trainX = np.reshape(X_train, (X_train.shape[0], X_train.shape[1], 1))\n",
        "testX = np.reshape(X_test, (X_test.shape[0], X_test.shape[1], 1))"
      ],
      "execution_count": 0,
      "outputs": []
    },
    {
      "metadata": {
        "id": "WNnVPy_1cOpP",
        "colab_type": "code",
        "colab": {
          "base_uri": "https://localhost:8080/",
          "height": 4114
        },
        "outputId": "c86f0897-e0c6-44fd-b9fa-324933b10a3a"
      },
      "cell_type": "code",
      "source": [
        "# create and fit the LSTM network\n",
        "model = Sequential()\n",
        "model.add(LSTM(400, input_shape=(6, 1)))\n",
        "model.add(Dense(1))\n",
        "adam = optimizers.Adam(lr=0.005)\n",
        "model.compile(loss='mean_squared_error', optimizer=adam)\n",
        "model.fit(trainX, y_train, epochs=120, batch_size=1, verbose=2)"
      ],
      "execution_count": 0,
      "outputs": [
        {
          "output_type": "stream",
          "text": [
            "Epoch 1/120\n",
            " - 4s - loss: 480279.9210\n",
            "Epoch 2/120\n",
            " - 2s - loss: 419605.9378\n",
            "Epoch 3/120\n",
            " - 2s - loss: 365052.9977\n",
            "Epoch 4/120\n",
            " - 2s - loss: 316086.1111\n",
            "Epoch 5/120\n",
            " - 2s - loss: 272267.8202\n",
            "Epoch 6/120\n",
            " - 2s - loss: 233275.2120\n",
            "Epoch 7/120\n",
            " - 2s - loss: 198723.1294\n",
            "Epoch 8/120\n",
            " - 2s - loss: 168213.5763\n",
            "Epoch 9/120\n",
            " - 2s - loss: 141431.1981\n",
            "Epoch 10/120\n",
            " - 2s - loss: 118097.4390\n",
            "Epoch 11/120\n",
            " - 2s - loss: 97901.8267\n",
            "Epoch 12/120\n",
            " - 2s - loss: 80538.6701\n",
            "Epoch 13/120\n",
            " - 2s - loss: 65745.0498\n",
            "Epoch 14/120\n",
            " - 2s - loss: 53246.8170\n",
            "Epoch 15/120\n",
            " - 2s - loss: 42775.9952\n",
            "Epoch 16/120\n",
            " - 2s - loss: 34089.9759\n",
            "Epoch 17/120\n",
            " - 2s - loss: 26972.0818\n",
            "Epoch 18/120\n",
            " - 2s - loss: 21219.2760\n",
            "Epoch 19/120\n",
            " - 2s - loss: 16605.3334\n",
            "Epoch 20/120\n",
            " - 2s - loss: 12974.0208\n",
            "Epoch 21/120\n",
            " - 2s - loss: 10157.7056\n",
            "Epoch 22/120\n",
            " - 2s - loss: 7997.4464\n",
            "Epoch 23/120\n",
            " - 2s - loss: 6384.9473\n",
            "Epoch 24/120\n",
            " - 2s - loss: 5195.6372\n",
            "Epoch 25/120\n",
            " - 2s - loss: 4328.7515\n",
            "Epoch 26/120\n",
            " - 2s - loss: 3714.5539\n",
            "Epoch 27/120\n",
            " - 2s - loss: 3284.5402\n",
            "Epoch 28/120\n",
            " - 2s - loss: 2994.0569\n",
            "Epoch 29/120\n",
            " - 2s - loss: 2799.4849\n",
            "Epoch 30/120\n",
            " - 2s - loss: 2674.8435\n",
            "Epoch 31/120\n",
            " - 2s - loss: 2596.4164\n",
            "Epoch 32/120\n",
            " - 2s - loss: 2545.8928\n",
            "Epoch 33/120\n",
            " - 2s - loss: 2515.3892\n",
            "Epoch 34/120\n",
            " - 2s - loss: 2499.2212\n",
            "Epoch 35/120\n",
            " - 2s - loss: 2497.1853\n",
            "Epoch 36/120\n",
            " - 2s - loss: 2485.2741\n",
            "Epoch 37/120\n",
            " - 2s - loss: 2484.5232\n",
            "Epoch 38/120\n",
            " - 2s - loss: 2490.4978\n",
            "Epoch 39/120\n",
            " - 2s - loss: 2482.8180\n",
            "Epoch 40/120\n",
            " - 2s - loss: 2486.0944\n",
            "Epoch 41/120\n",
            " - 2s - loss: 2481.6045\n",
            "Epoch 42/120\n",
            " - 2s - loss: 2482.9956\n",
            "Epoch 43/120\n",
            " - 2s - loss: 2482.1407\n",
            "Epoch 44/120\n",
            " - 2s - loss: 2487.2047\n",
            "Epoch 45/120\n",
            " - 2s - loss: 2492.2077\n",
            "Epoch 46/120\n",
            " - 2s - loss: 2481.7106\n",
            "Epoch 47/120\n",
            " - 2s - loss: 2482.6918\n",
            "Epoch 48/120\n",
            " - 2s - loss: 2481.5251\n",
            "Epoch 49/120\n",
            " - 2s - loss: 2481.5499\n",
            "Epoch 50/120\n",
            " - 2s - loss: 2484.9708\n",
            "Epoch 51/120\n",
            " - 2s - loss: 2488.0125\n",
            "Epoch 52/120\n",
            " - 2s - loss: 2485.0667\n",
            "Epoch 53/120\n",
            " - 2s - loss: 2488.5145\n",
            "Epoch 54/120\n",
            " - 2s - loss: 2496.7603\n",
            "Epoch 55/120\n",
            " - 2s - loss: 2491.7648\n",
            "Epoch 56/120\n",
            " - 2s - loss: 2485.7010\n",
            "Epoch 57/120\n",
            " - 2s - loss: 2484.9099\n",
            "Epoch 58/120\n",
            " - 2s - loss: 2501.6351\n",
            "Epoch 59/120\n",
            " - 2s - loss: 2506.6166\n",
            "Epoch 60/120\n",
            " - 2s - loss: 2499.3393\n",
            "Epoch 61/120\n",
            " - 2s - loss: 2488.3006\n",
            "Epoch 62/120\n",
            " - 2s - loss: 2491.1081\n",
            "Epoch 63/120\n",
            " - 2s - loss: 2484.5496\n",
            "Epoch 64/120\n",
            " - 2s - loss: 2492.3851\n",
            "Epoch 65/120\n",
            " - 2s - loss: 2483.2509\n",
            "Epoch 66/120\n",
            " - 2s - loss: 2487.8974\n",
            "Epoch 67/120\n",
            " - 2s - loss: 2487.1837\n",
            "Epoch 68/120\n",
            " - 2s - loss: 2494.4230\n",
            "Epoch 69/120\n",
            " - 2s - loss: 2500.0402\n",
            "Epoch 70/120\n",
            " - 2s - loss: 2485.1505\n",
            "Epoch 71/120\n",
            " - 2s - loss: 2490.6401\n",
            "Epoch 72/120\n",
            " - 2s - loss: 2499.8049\n",
            "Epoch 73/120\n",
            " - 2s - loss: 2496.2552\n",
            "Epoch 74/120\n",
            " - 2s - loss: 2486.3037\n",
            "Epoch 75/120\n",
            " - 2s - loss: 2492.1319\n",
            "Epoch 76/120\n",
            " - 2s - loss: 2491.2124\n",
            "Epoch 77/120\n",
            " - 2s - loss: 2487.5301\n",
            "Epoch 78/120\n",
            " - 2s - loss: 2505.9385\n",
            "Epoch 79/120\n",
            " - 2s - loss: 2497.3906\n",
            "Epoch 80/120\n",
            " - 2s - loss: 2493.5170\n",
            "Epoch 81/120\n",
            " - 2s - loss: 2492.7766\n",
            "Epoch 82/120\n",
            " - 2s - loss: 2483.7270\n",
            "Epoch 83/120\n",
            " - 2s - loss: 2485.9192\n",
            "Epoch 84/120\n",
            " - 2s - loss: 2485.7575\n",
            "Epoch 85/120\n",
            " - 2s - loss: 2495.4209\n",
            "Epoch 86/120\n",
            " - 2s - loss: 2499.2295\n",
            "Epoch 87/120\n",
            " - 2s - loss: 2495.1362\n",
            "Epoch 88/120\n",
            " - 2s - loss: 2487.4907\n",
            "Epoch 89/120\n",
            " - 2s - loss: 2500.2740\n",
            "Epoch 90/120\n",
            " - 2s - loss: 2488.5320\n",
            "Epoch 91/120\n",
            " - 2s - loss: 2502.9231\n",
            "Epoch 92/120\n",
            " - 2s - loss: 2496.1172\n",
            "Epoch 93/120\n",
            " - 2s - loss: 2485.9619\n",
            "Epoch 94/120\n",
            " - 2s - loss: 2492.5479\n",
            "Epoch 95/120\n",
            " - 2s - loss: 2494.2149\n",
            "Epoch 96/120\n",
            " - 2s - loss: 2493.9363\n",
            "Epoch 97/120\n",
            " - 2s - loss: 2487.2965\n",
            "Epoch 98/120\n",
            " - 2s - loss: 2493.1833\n",
            "Epoch 99/120\n",
            " - 2s - loss: 2487.8321\n",
            "Epoch 100/120\n",
            " - 2s - loss: 2490.7719\n",
            "Epoch 101/120\n",
            " - 2s - loss: 2496.4772\n",
            "Epoch 102/120\n",
            " - 2s - loss: 2493.5552\n",
            "Epoch 103/120\n",
            " - 2s - loss: 2488.3824\n",
            "Epoch 104/120\n",
            " - 2s - loss: 2488.8284\n",
            "Epoch 105/120\n",
            " - 2s - loss: 2486.0619\n",
            "Epoch 106/120\n",
            " - 2s - loss: 2492.8615\n",
            "Epoch 107/120\n",
            " - 2s - loss: 2486.5684\n",
            "Epoch 108/120\n",
            " - 2s - loss: 2494.6678\n",
            "Epoch 109/120\n",
            " - 2s - loss: 2490.7075\n",
            "Epoch 110/120\n",
            " - 2s - loss: 2491.2482\n",
            "Epoch 111/120\n",
            " - 2s - loss: 2492.6954\n",
            "Epoch 112/120\n",
            " - 2s - loss: 2486.8866\n",
            "Epoch 113/120\n",
            " - 2s - loss: 2483.8095\n",
            "Epoch 114/120\n",
            " - 2s - loss: 2487.8348\n",
            "Epoch 115/120\n",
            " - 2s - loss: 2508.9195\n",
            "Epoch 116/120\n",
            " - 2s - loss: 2488.5062\n",
            "Epoch 117/120\n",
            " - 2s - loss: 2500.9999\n",
            "Epoch 118/120\n",
            " - 2s - loss: 2486.5145\n",
            "Epoch 119/120\n",
            " - 2s - loss: 2491.5257\n",
            "Epoch 120/120\n",
            " - 2s - loss: 2491.0914\n"
          ],
          "name": "stdout"
        },
        {
          "output_type": "execute_result",
          "data": {
            "text/plain": [
              "<keras.callbacks.History at 0x7fb4d4a21b00>"
            ]
          },
          "metadata": {
            "tags": []
          },
          "execution_count": 21
        }
      ]
    },
    {
      "metadata": {
        "id": "MI5eTIVocSya",
        "colab_type": "code",
        "colab": {}
      },
      "cell_type": "code",
      "source": [
        "#make predictions\n",
        "trainPredict = model.predict(trainX)\n",
        "testPredict = model.predict(testX)"
      ],
      "execution_count": 0,
      "outputs": []
    },
    {
      "metadata": {
        "id": "f0mpMkyjdhjr",
        "colab_type": "code",
        "colab": {
          "base_uri": "https://localhost:8080/",
          "height": 51
        },
        "outputId": "e06a0cbf-b2b6-49ad-ac6c-537d2bd1f137"
      },
      "cell_type": "code",
      "source": [
        "# calculate root mean squared error\n",
        "trainScore = math.sqrt(mean_squared_error(y_train, trainPredict))\n",
        "print('Train Score: %.2f RMSE' % (trainScore))\n",
        "testScore = math.sqrt(mean_squared_error(y_test, testPredict))\n",
        "print('Test Score: %.2f RMSE' % (testScore))"
      ],
      "execution_count": 0,
      "outputs": [
        {
          "output_type": "stream",
          "text": [
            "Train Score: 49.75 RMSE\n",
            "Test Score: 44.99 RMSE\n"
          ],
          "name": "stdout"
        }
      ]
    },
    {
      "metadata": {
        "id": "jpnAxt7kdjgR",
        "colab_type": "code",
        "colab": {}
      },
      "cell_type": "code",
      "source": [
        ""
      ],
      "execution_count": 0,
      "outputs": []
    }
  ]
}