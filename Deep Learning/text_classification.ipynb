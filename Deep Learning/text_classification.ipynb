{
 "cells": [
  {
   "cell_type": "markdown",
   "metadata": {
    "colab_type": "text",
    "id": "wulJYuNGXAia"
   },
   "source": [
    "# News articles Classification Unising CNN"
   ]
  },
  {
   "cell_type": "code",
   "execution_count": 1,
   "metadata": {
    "colab": {
     "base_uri": "https://localhost:8080/",
     "height": 34
    },
    "colab_type": "code",
    "id": "fM7a6R-vHyWL",
    "outputId": "b2b2395c-ec38-4a22-ae04-3322ec73048c"
   },
   "outputs": [
    {
     "name": "stderr",
     "output_type": "stream",
     "text": [
      "Using TensorFlow backend.\n"
     ]
    }
   ],
   "source": [
    "import numpy as np\n",
    "import pandas as pd\n",
    "import pickle\n",
    "from collections import defaultdict\n",
    "import re\n",
    "from bs4 import BeautifulSoup\n",
    "import sys\n",
    "import os\n",
    "from keras.preprocessing.text import Tokenizer\n",
    "from keras.preprocessing.sequence import pad_sequences\n",
    "from keras.utils.np_utils import to_categorical\n",
    "from keras.layers import Embedding\n",
    "from keras.layers import Dense, Input, Flatten\n",
    "from keras.layers import Conv1D, MaxPooling1D, Embedding, Dropout\n",
    "from keras.models import Model\n",
    "from keras.callbacks import ModelCheckpoint\n",
    "import matplotlib.pyplot as plt\n",
    "plt.switch_backend('agg')\n",
    "%matplotlib inline"
   ]
  },
  {
   "cell_type": "markdown",
   "metadata": {
    "colab_type": "text",
    "id": "qEtBk0nTXTtF"
   },
   "source": [
    "## Removing punctiuations & tabulations"
   ]
  },
  {
   "cell_type": "code",
   "execution_count": 0,
   "metadata": {
    "colab": {},
    "colab_type": "code",
    "id": "nU7neyIiIRIu"
   },
   "outputs": [],
   "source": [
    "def clean_str(string):\n",
    "    string = re.sub(r\"\\\\\", \"\", string)\n",
    "    string = re.sub(r\"\\'\", \"\", string)\n",
    "    string = re.sub(r\"\\\"\", \"\", string)\n",
    "    string = re.sub(r\"/\", \" \", string)\n",
    "    string = re.sub(r\"-\", \" \", string)\n",
    "    string = re.sub(r\"\\n\", \" \", string)\n",
    "    string = re.sub(r\"\\r\", \" \", string)\n",
    "    string = re.sub(r\"\\t\", \" \", string)\n",
    "    return string.strip().lower()"
   ]
  },
  {
   "cell_type": "code",
   "execution_count": 0,
   "metadata": {
    "colab": {},
    "colab_type": "code",
    "id": "PSacEKx5IoMP"
   },
   "outputs": [],
   "source": [
    "MAX_SEQUENCE_LENGTH = 1000\n",
    "MAX_NB_WORDS = 20000\n",
    "EMBEDDING_DIM = 100\n",
    "VALIDATION_SPLIT = 0.2"
   ]
  },
  {
   "cell_type": "markdown",
   "metadata": {
    "colab_type": "text",
    "id": "CG1DX6tTWqDh"
   },
   "source": [
    "## Importing Dataset"
   ]
  },
  {
   "cell_type": "code",
   "execution_count": 4,
   "metadata": {
    "colab": {
     "base_uri": "https://localhost:8080/",
     "height": 51
    },
    "colab_type": "code",
    "id": "WBGVab4tIqCN",
    "outputId": "5b25eea7-eef8-4b64-aff1-3941a77be299"
   },
   "outputs": [
    {
     "name": "stderr",
     "output_type": "stream",
     "text": [
      "Downloading 20news dataset. This may take a few minutes.\n",
      "Downloading dataset from https://ndownloader.figshare.com/files/5975967 (14 MB)\n"
     ]
    }
   ],
   "source": [
    "from sklearn.datasets import fetch_20newsgroups\n",
    "dataset = fetch_20newsgroups(subset='all',remove= ('headers', 'footers', 'quotes'))"
   ]
  },
  {
   "cell_type": "code",
   "execution_count": 0,
   "metadata": {
    "colab": {},
    "colab_type": "code",
    "id": "__M34vLoKW6W"
   },
   "outputs": [],
   "source": [
    "targets = dataset.target_names\n",
    "X = dataset.data\n",
    "Y = dataset.target"
   ]
  },
  {
   "cell_type": "code",
   "execution_count": 0,
   "metadata": {
    "colab": {},
    "colab_type": "code",
    "id": "_z9wrGaWKch5"
   },
   "outputs": [],
   "source": [
    "texts = []\n",
    "labels = Y\n",
    "\n",
    "for x in X:\n",
    "    texts.append(clean_str(x))"
   ]
  },
  {
   "cell_type": "markdown",
   "metadata": {
    "colab_type": "text",
    "id": "kPAzi2bJXo0N"
   },
   "source": [
    "## Applying text preprocessing: tokenization"
   ]
  },
  {
   "cell_type": "code",
   "execution_count": 7,
   "metadata": {
    "colab": {
     "base_uri": "https://localhost:8080/",
     "height": 34
    },
    "colab_type": "code",
    "id": "zMLnm4AUMVcf",
    "outputId": "c512d1cd-6a40-4a08-e649-ed641314469a"
   },
   "outputs": [
    {
     "name": "stdout",
     "output_type": "stream",
     "text": [
      "Number of Unique Tokens 134998\n"
     ]
    }
   ],
   "source": [
    "tokenizer = Tokenizer(num_words=MAX_NB_WORDS)\n",
    "tokenizer.fit_on_texts(texts)\n",
    "sequences = tokenizer.texts_to_sequences(texts)\n",
    "\n",
    "word_index = tokenizer.word_index\n",
    "print('Number of Unique Tokens',len(word_index))"
   ]
  },
  {
   "cell_type": "markdown",
   "metadata": {
    "colab_type": "text",
    "id": "ZZAVL0ncXxT-"
   },
   "source": [
    "## We need the text to be fixed length , Therefore we are uning padding"
   ]
  },
  {
   "cell_type": "code",
   "execution_count": 8,
   "metadata": {
    "colab": {
     "base_uri": "https://localhost:8080/",
     "height": 51
    },
    "colab_type": "code",
    "id": "zQSsutqQNKrq",
    "outputId": "b458e33c-f859-44ff-9aeb-c522438ccddf"
   },
   "outputs": [
    {
     "name": "stdout",
     "output_type": "stream",
     "text": [
      "Shape of Data Tensor: (18846, 1000)\n",
      "Shape of Label Tensor: (18846, 20)\n"
     ]
    }
   ],
   "source": [
    "\n",
    "data  =  pad_sequences(sequences, maxlen=MAX_SEQUENCE_LENGTH)\n",
    "\n",
    "labels = to_categorical(np.asarray(labels))\n",
    "print('Shape of Data Tensor:', data.shape)\n",
    "print('Shape of Label Tensor:', labels.shape)\n",
    "\n",
    "indices = np.arange(data.shape[0])\n",
    "np.random.shuffle(indices)\n",
    "data = data[indices]\n",
    "labels = labels[indices]\n",
    "nb_validation_samples = int(VALIDATION_SPLIT * data.shape[0])\n",
    "\n",
    "x_train = data[:-nb_validation_samples]\n",
    "y_train = labels[:-nb_validation_samples]\n",
    "x_val = data[-nb_validation_samples:]\n",
    "y_val = labels[-nb_validation_samples:]"
   ]
  },
  {
   "cell_type": "markdown",
   "metadata": {
    "colab_type": "text",
    "id": "Fbyy-NpjYAaz"
   },
   "source": [
    "## Uploading Word embedding: Glove pretrained model"
   ]
  },
  {
   "cell_type": "code",
   "execution_count": 9,
   "metadata": {
    "colab": {
     "base_uri": "https://localhost:8080/",
     "height": 408
    },
    "colab_type": "code",
    "id": "6PYMHS6iOd8F",
    "outputId": "a3e4aa31-bc36-4880-c49a-b54b440b3bdc"
   },
   "outputs": [
    {
     "name": "stdout",
     "output_type": "stream",
     "text": [
      "--2018-08-29 10:42:45--  http://nlp.stanford.edu/data/glove.6B.zip\r\n",
      "Resolving nlp.stanford.edu (nlp.stanford.edu)... 171.64.67.140\n",
      "Connecting to nlp.stanford.edu (nlp.stanford.edu)|171.64.67.140|:80... connected.\n",
      "HTTP request sent, awaiting response... 302 Found\n",
      "Location: https://nlp.stanford.edu/data/glove.6B.zip [following]\n",
      "--2018-08-29 10:42:45--  https://nlp.stanford.edu/data/glove.6B.zip\n",
      "Connecting to nlp.stanford.edu (nlp.stanford.edu)|171.64.67.140|:443... connected.\n",
      "HTTP request sent, awaiting response... 200 OK\n",
      "Length: 862182613 (822M) [application/zip]\n",
      "Saving to: ‘nlp.stanford.edu/data/glove.6B.zip’\n",
      "\n",
      "nlp.stanford.edu/da 100%[===================>] 822.24M  7.96MB/s    in 81s     \n",
      "\n",
      "2018-08-29 10:44:06 (10.1 MB/s) - ‘nlp.stanford.edu/data/glove.6B.zip’ saved [862182613/862182613]\n",
      "\n",
      "FINISHED --2018-08-29 10:44:06--\n",
      "Total wall clock time: 1m 22s\n",
      "Downloaded: 1 files, 822M in 1m 21s (10.1 MB/s)\n",
      "Archive:  nlp.stanford.edu/data/glove.6B.zip\n",
      "  inflating: glove/glove.6B.50d.txt  \n",
      "  inflating: glove/glove.6B.100d.txt  \n",
      "  inflating: glove/glove.6B.200d.txt  \n",
      "  inflating: glove/glove.6B.300d.txt  \n"
     ]
    }
   ],
   "source": [
    "!wget -r http://nlp.stanford.edu/data/glove.6B.zip\n",
    "!unzip nlp.stanford.edu/data/glove.6B.zip -d glove\n",
    "!rm -r nlp.stanford.edu/"
   ]
  },
  {
   "cell_type": "markdown",
   "metadata": {
    "colab_type": "text",
    "id": "z1hYW36zYSXO"
   },
   "source": [
    "## Set to every word its vector , if it exists."
   ]
  },
  {
   "cell_type": "code",
   "execution_count": 10,
   "metadata": {
    "colab": {
     "base_uri": "https://localhost:8080/",
     "height": 34
    },
    "colab_type": "code",
    "id": "VmqjBpHONUxN",
    "outputId": "d718c64e-137d-41c2-baef-573d1934c4fd"
   },
   "outputs": [
    {
     "name": "stdout",
     "output_type": "stream",
     "text": [
      "Total 400000 word vectors in Glove 6B 100d.\n"
     ]
    }
   ],
   "source": [
    "embeddings_index = {}\n",
    "f = open('glove/glove.6B.100d.txt',encoding='utf8')\n",
    "for line in f:\n",
    "    values = line.split()\n",
    "    word = values[0]\n",
    "    coefs = np.asarray(values[1:], dtype='float32')\n",
    "    embeddings_index[word] = coefs\n",
    "f.close()\n",
    "\n",
    "print('Total %s word vectors in Glove 6B 100d.' % len(embeddings_index))"
   ]
  },
  {
   "cell_type": "code",
   "execution_count": 0,
   "metadata": {
    "colab": {},
    "colab_type": "code",
    "id": "oF1tYhOYQTIG"
   },
   "outputs": [],
   "source": [
    "\n",
    "embedding_matrix  = np.random.random((len(word_index) + 1, EMBEDDING_DIM))\n",
    "for word, i in word_index.items():\n",
    "    embedding_vector = embeddings_index.get(word)\n",
    "    if embedding_vector is not None:\n",
    "        # words not found in embedding index will be all-zeros.\n",
    "        embedding_matrix[i] = embedding_vector\n",
    "\n",
    "embedding_layer = Embedding(len(word_index) + 1,\n",
    "                            EMBEDDING_DIM,weights=[embedding_matrix],\n",
    "                            input_length=MAX_SEQUENCE_LENGTH,trainable=True)"
   ]
  },
  {
   "cell_type": "markdown",
   "metadata": {
    "colab_type": "text",
    "id": "ysPK66IHYiGt"
   },
   "source": [
    "# Building the CNN"
   ]
  },
  {
   "cell_type": "code",
   "execution_count": 12,
   "metadata": {
    "colab": {
     "base_uri": "https://localhost:8080/",
     "height": 527
    },
    "colab_type": "code",
    "id": "dCqC8EFTQecy",
    "outputId": "00452e1c-d93f-4081-dccb-fc9294d7ea9f"
   },
   "outputs": [
    {
     "name": "stdout",
     "output_type": "stream",
     "text": [
      "Simplified convolutional neural network\n",
      "_________________________________________________________________\n",
      "Layer (type)                 Output Shape              Param #   \n",
      "=================================================================\n",
      "input_1 (InputLayer)         (None, 1000)              0         \n",
      "_________________________________________________________________\n",
      "embedding_1 (Embedding)      (None, 1000, 100)         13499900  \n",
      "_________________________________________________________________\n",
      "conv1d_1 (Conv1D)            (None, 996, 128)          64128     \n",
      "_________________________________________________________________\n",
      "max_pooling1d_1 (MaxPooling1 (None, 199, 128)          0         \n",
      "_________________________________________________________________\n",
      "conv1d_2 (Conv1D)            (None, 195, 128)          82048     \n",
      "_________________________________________________________________\n",
      "max_pooling1d_2 (MaxPooling1 (None, 39, 128)           0         \n",
      "_________________________________________________________________\n",
      "conv1d_3 (Conv1D)            (None, 35, 128)           82048     \n",
      "_________________________________________________________________\n",
      "max_pooling1d_3 (MaxPooling1 (None, 1, 128)            0         \n",
      "_________________________________________________________________\n",
      "flatten_1 (Flatten)          (None, 128)               0         \n",
      "_________________________________________________________________\n",
      "dense_1 (Dense)              (None, 128)               16512     \n",
      "_________________________________________________________________\n",
      "dense_2 (Dense)              (None, 20)                2580      \n",
      "=================================================================\n",
      "Total params: 13,747,216\n",
      "Trainable params: 13,747,216\n",
      "Non-trainable params: 0\n",
      "_________________________________________________________________\n"
     ]
    }
   ],
   "source": [
    "sequence_input = Input(shape=(MAX_SEQUENCE_LENGTH,), dtype='int32')\n",
    "embedded_sequences = embedding_layer(sequence_input)\n",
    "l_cov1= Conv1D(128, 5, activation='relu')(embedded_sequences)\n",
    "l_pool1 = MaxPooling1D(5)(l_cov1)\n",
    "l_cov2 = Conv1D(128, 5, activation='relu')(l_pool1)\n",
    "l_pool2 = MaxPooling1D(5)(l_cov2)\n",
    "l_cov3 = Conv1D(128, 5, activation='relu')(l_pool2)\n",
    "l_pool3 = MaxPooling1D(35)(l_cov3)  # global max pooling\n",
    "l_flat = Flatten()(l_pool3)\n",
    "l_dense = Dense(128, activation='relu')(l_flat)\n",
    "preds = Dense(len(targets), activation='softmax')(l_dense)\n",
    "\n",
    "model = Model(sequence_input, preds)\n",
    "model.compile(loss='categorical_crossentropy',\n",
    "              optimizer='rmsprop',\n",
    "              metrics=['acc'])\n",
    "\n",
    "print(\"Simplified convolutional neural network\")\n",
    "model.summary()\n",
    "cp=ModelCheckpoint('model_cnn.hdf5',monitor='val_acc',verbose=1,save_best_only=True)"
   ]
  },
  {
   "cell_type": "markdown",
   "metadata": {
    "colab_type": "text",
    "id": "NmCjAc7oYl1r"
   },
   "source": [
    "## Training the model"
   ]
  },
  {
   "cell_type": "code",
   "execution_count": 13,
   "metadata": {
    "colab": {
     "base_uri": "https://localhost:8080/",
     "height": 1074
    },
    "colab_type": "code",
    "id": "Vfz5RqgXQm1X",
    "outputId": "17658ec9-8ea9-42d8-8869-e8366fc175d5"
   },
   "outputs": [
    {
     "name": "stdout",
     "output_type": "stream",
     "text": [
      "Train on 15077 samples, validate on 3769 samples\n",
      "Epoch 1/15\n",
      "15077/15077 [==============================] - 159s 11ms/step - loss: 1.9909 - acc: 0.3653 - val_loss: 1.7411 - val_acc: 0.5023\n",
      "\n",
      "Epoch 00001: val_acc improved from -inf to 0.50226, saving model to model_cnn.hdf5\n",
      "Epoch 2/15\n",
      "15077/15077 [==============================] - 158s 10ms/step - loss: 1.7702 - acc: 0.5178 - val_loss: 2.0288 - val_acc: 0.5627\n",
      "\n",
      "Epoch 00002: val_acc improved from 0.50226 to 0.56275, saving model to model_cnn.hdf5\n",
      "Epoch 3/15\n",
      "15077/15077 [==============================] - 157s 10ms/step - loss: 1.8688 - acc: 0.5437 - val_loss: 2.9349 - val_acc: 0.4757\n",
      "\n",
      "Epoch 00003: val_acc did not improve from 0.56275\n",
      "Epoch 4/15\n",
      "15077/15077 [==============================] - 158s 10ms/step - loss: 1.9497 - acc: 0.5567 - val_loss: 2.4861 - val_acc: 0.5054\n",
      "\n",
      "Epoch 00004: val_acc did not improve from 0.56275\n",
      "Epoch 5/15\n",
      "15077/15077 [==============================] - 158s 10ms/step - loss: 2.1103 - acc: 0.5467 - val_loss: 2.4331 - val_acc: 0.4916\n",
      "\n",
      "Epoch 00005: val_acc did not improve from 0.56275\n",
      "Epoch 6/15\n",
      "15077/15077 [==============================] - 157s 10ms/step - loss: 2.1668 - acc: 0.5500 - val_loss: 2.4259 - val_acc: 0.5230\n",
      "\n",
      "Epoch 00006: val_acc did not improve from 0.56275\n",
      "Epoch 7/15\n",
      "15077/15077 [==============================] - 158s 10ms/step - loss: 2.3299 - acc: 0.5437 - val_loss: 2.5241 - val_acc: 0.4253\n",
      "\n",
      "Epoch 00007: val_acc did not improve from 0.56275\n",
      "Epoch 8/15\n",
      "15077/15077 [==============================] - 157s 10ms/step - loss: 2.3436 - acc: 0.5284 - val_loss: 2.8683 - val_acc: 0.4105\n",
      "\n",
      "Epoch 00008: val_acc did not improve from 0.56275\n",
      "Epoch 9/15\n",
      "15077/15077 [==============================] - 158s 10ms/step - loss: 2.5799 - acc: 0.5098 - val_loss: 3.2978 - val_acc: 0.5049\n",
      "\n",
      "Epoch 00009: val_acc did not improve from 0.56275\n",
      "Epoch 10/15\n",
      "15077/15077 [==============================] - 157s 10ms/step - loss: 2.7599 - acc: 0.4738 - val_loss: 3.1724 - val_acc: 0.3441\n",
      "\n",
      "Epoch 00010: val_acc did not improve from 0.56275\n",
      "Epoch 11/15\n",
      "15077/15077 [==============================] - 158s 10ms/step - loss: 2.7895 - acc: 0.4146 - val_loss: 3.0736 - val_acc: 0.3823\n",
      "\n",
      "Epoch 00011: val_acc did not improve from 0.56275\n",
      "Epoch 12/15\n",
      "15077/15077 [==============================] - 157s 10ms/step - loss: 2.7141 - acc: 0.4407 - val_loss: 3.2945 - val_acc: 0.4184\n",
      "\n",
      "Epoch 00012: val_acc did not improve from 0.56275\n",
      "Epoch 13/15\n",
      "15077/15077 [==============================] - 158s 10ms/step - loss: 2.8492 - acc: 0.3145 - val_loss: 2.8425 - val_acc: 0.2401\n",
      "\n",
      "Epoch 00013: val_acc did not improve from 0.56275\n",
      "Epoch 14/15\n",
      "15077/15077 [==============================] - 157s 10ms/step - loss: 2.8289 - acc: 0.2879 - val_loss: 2.7237 - val_acc: 0.2534\n",
      "\n",
      "Epoch 00014: val_acc did not improve from 0.56275\n",
      "Epoch 15/15\n",
      "15077/15077 [==============================] - 158s 10ms/step - loss: 2.8768 - acc: 0.2912 - val_loss: 3.1374 - val_acc: 0.2627\n",
      "\n",
      "Epoch 00015: val_acc did not improve from 0.56275\n"
     ]
    }
   ],
   "source": [
    "history=model.fit(x_train, y_train, validation_data=(x_val, y_val),epochs=15, batch_size=2,callbacks=[cp])"
   ]
  },
  {
   "cell_type": "markdown",
   "metadata": {
    "colab_type": "text",
    "id": "cOKoVMEXYpHE"
   },
   "source": [
    "## Graph comparison: Train vs Validation\n",
    "## loss & accuracy"
   ]
  },
  {
   "cell_type": "code",
   "execution_count": 14,
   "metadata": {
    "colab": {
     "base_uri": "https://localhost:8080/",
     "height": 302
    },
    "colab_type": "code",
    "id": "vwscCycZQ9kk",
    "outputId": "80b1673e-d30b-4f81-f6ab-fc7fde95704c"
   },
   "outputs": [
    {
     "data": {
      "image/png": "[encoded data removed]",
      "text/plain": [
       "<matplotlib.figure.Figure at 0x7f8c172b0c88>"
      ]
     },
     "metadata": {
      "tags": []
     },
     "output_type": "display_data"
    }
   ],
   "source": [
    "fig1 = plt.figure()\n",
    "plt.plot(history.history['loss'],'r',linewidth=3.0)\n",
    "plt.plot(history.history['val_loss'],'b',linewidth=3.0)\n",
    "plt.legend(['Training loss', 'Validation Loss'],fontsize=18)\n",
    "plt.xlabel('Epochs ',fontsize=16)\n",
    "plt.ylabel('Loss',fontsize=16)\n",
    "plt.title('Loss Curves :CNN',fontsize=16)\n",
    "fig1.savefig('loss_cnn.png')\n",
    "plt.show()"
   ]
  },
  {
   "cell_type": "code",
   "execution_count": 15,
   "metadata": {
    "colab": {
     "base_uri": "https://localhost:8080/",
     "height": 302
    },
    "colab_type": "code",
    "id": "VqMI02QGRBbp",
    "outputId": "46feecb4-a955-46da-92d1-d99cbb05af44"
   },
   "outputs": [
    {
     "data": {
      "image/png": "[encoded data removed]",
      "text/plain": [
       "<matplotlib.figure.Figure at 0x7f8c1736df28>"
      ]
     },
     "metadata": {
      "tags": []
     },
     "output_type": "display_data"
    }
   ],
   "source": [
    "fig2=plt.figure()\n",
    "plt.plot(history.history['acc'],'r',linewidth=3.0)\n",
    "plt.plot(history.history['val_acc'],'b',linewidth=3.0)\n",
    "plt.legend(['Training Accuracy', 'Validation Accuracy'],fontsize=18)\n",
    "plt.xlabel('Epochs ',fontsize=16)\n",
    "plt.ylabel('Accuracy',fontsize=16)\n",
    "plt.title('Accuracy Curves : CNN',fontsize=16)\n",
    "fig2.savefig('accuracy_cnn.png')\n",
    "plt.show()"
   ]
  },
  {
   "cell_type": "markdown",
   "metadata": {
    "colab_type": "text",
    "id": "vvwvwCZBcbxM"
   },
   "source": [
    "# Interpretation"
   ]
  },
  {
   "cell_type": "markdown",
   "metadata": {
    "colab_type": "text",
    "id": "tsZeYBpScfoQ"
   },
   "source": [
    "### The best results is obtaining after 2 epochs: \n",
    "\n",
    "Train: - loss: 1.7702 - acc: 0.5178 \n",
    "val_loss: 2.0288 - val_acc: 0.5627\n",
    "\n",
    "### After that it went down:\n",
    "20news dataset is a small, therefore the model learnt the best result possible after 2 epochs only. Hence we are  using batch=2   that  means the model iterates nearly throw all observations .\n",
    "\n",
    "Using bigger dataset will improve the results. The last model we built was for text summarization we used 4M observation to get good results. "
   ]
  },
  {
   "cell_type": "code",
   "execution_count": 0,
   "metadata": {
    "colab": {},
    "colab_type": "code",
    "id": "2wtNnO7ublSP"
   },
   "outputs": [],
   "source": []
  },
  {
   "cell_type": "code",
   "execution_count": 0,
   "metadata": {
    "colab": {},
    "colab_type": "code",
    "id": "jOM9bkO4RDJ0"
   },
   "outputs": [],
   "source": []
  },
  {
   "cell_type": "code",
   "execution_count": 0,
   "metadata": {
    "colab": {},
    "colab_type": "code",
    "id": "IMwu1he3RQpJ"
   },
   "outputs": [],
   "source": []
  }
 ],
 "metadata": {
  "accelerator": "GPU",
  "colab": {
   "collapsed_sections": [],
   "name": "text class.ipynb",
   "provenance": [],
   "toc_visible": true,
   "version": "0.3.2"
  },
  "kernelspec": {
   "display_name": "Python 3",
   "language": "python",
   "name": "python3"
  },
  "language_info": {
   "codemirror_mode": {
    "name": "ipython",
    "version": 3
   },
   "file_extension": ".py",
   "mimetype": "text/x-python",
   "name": "python",
   "nbconvert_exporter": "python",
   "pygments_lexer": "ipython3",
   "version": "3.6.5"
  }
 },
 "nbformat": 4,
 "nbformat_minor": 1
}
