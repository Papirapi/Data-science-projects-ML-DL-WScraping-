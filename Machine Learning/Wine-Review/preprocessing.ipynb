{
 "cells": [
  {
   "cell_type": "code",
   "execution_count": 114,
   "metadata": {
    "collapsed": true
   },
   "outputs": [],
   "source": [
    "import pandas as pd\n",
    "import numpy as np\n",
    "import csv\n",
    "import matplotlib.pyplot as plt\n",
    "from sklearn.feature_extraction.text import TfidfVectorizer, CountVectorizer\n",
    "from sklearn.feature_extraction.stop_words import ENGLISH_STOP_WORDS\n",
    "from sklearn.feature_extraction.text import TfidfVectorizer"
   ]
  },
  {
   "cell_type": "code",
   "execution_count": 115,
   "metadata": {},
   "outputs": [],
   "source": [
    "w = pd.read_csv('C:/Users/Maha/Desktop/wine/winemag-data_first150k.csv')\n",
    "a = w.head(10)"
   ]
  },
  {
   "cell_type": "code",
   "execution_count": 116,
   "metadata": {},
   "outputs": [
    {
     "data": {
      "text/plain": [
       "'This tremendous 100% varietal wine hails from Oakville and was aged over three years in oak. Juicy red-cherry fruit and a compelling hint of caramel greet the palate, framed by elegant, fine tannins and a subtle minty tone in the background. Balanced and rewarding from start to finish, it has years ahead of it to develop further nuance. Enjoy 2022–2030.'"
      ]
     },
     "execution_count": 116,
     "metadata": {},
     "output_type": "execute_result"
    }
   ],
   "source": [
    "a['description'][0]"
   ]
  },
  {
   "cell_type": "code",
   "execution_count": 117,
   "metadata": {},
   "outputs": [],
   "source": [
    "docs = a['description'].values"
   ]
  },
  {
   "cell_type": "code",
   "execution_count": 151,
   "metadata": {},
   "outputs": [
    {
     "data": {
      "text/plain": [
       "array([ 'This tremendous 100% varietal wine hails from Oakville and was aged over three years in oak. Juicy red-cherry fruit and a compelling hint of caramel greet the palate, framed by elegant, fine tannins and a subtle minty tone in the background. Balanced and rewarding from start to finish, it has years ahead of it to develop further nuance. Enjoy 2022–2030.',\n",
       "       'Ripe aromas of fig, blackberry and cassis are softened and sweetened by a slathering of oaky chocolate and vanilla. This is full, layered, intense and cushioned on the palate, with rich flavors of chocolaty black fruits and baking spices. A toasty, everlasting finish is heady but ideally balanced. Drink through 2023.',\n",
       "       'Mac Watson honors the memory of a wine once made by his mother in this tremendously delicious, balanced and complex botrytised white. Dark gold in color, it layers toasted hazelnut, pear compote and orange peel flavors, reveling in the succulence of its 122 g/L of residual sugar.',\n",
       "       \"This spent 20 months in 30% new French oak, and incorporates fruit from Ponzi's Aurora, Abetina and Madrona vineyards, among others. Aromatic, dense and toasty, it deftly blends aromas and flavors of toast, cigar box, blackberry, black cherry, coffee and graphite. Tannins are polished to a fine sheen, and frame a finish loaded with dark chocolate and espresso. Drink now through 2032.\",\n",
       "       'This is the top wine from La Bégude, named after the highest point in the vineyard at 1200 feet. It has structure, density and considerable acidity that is still calming down. With 18 months in wood, the wine has developing an extra richness and concentration. Produced by the Tari family, formerly of Château Giscours in Margaux, it is a wine made for aging. Drink from 2020.',\n",
       "       'Deep, dense and pure from the opening bell, this Toro is a winner. Aromas of dark ripe black fruits are cool and moderately oaked. This feels massive on the palate but sensationally balanced. Flavors of blackberry, coffee, mocha and toasty oak finish spicy, smooth and heady. Drink this exemplary Toro through 2023.',\n",
       "       \"Slightly gritty black-fruit aromas include a sweet note of pastry along with a hint of prune. Wall-to-wall saturation ensures that all corners of one's mouth are covered. Flavors of blackberry, mocha and chocolate are highly impressive and expressive, while this settles nicely on a long finish. Drink now through 2024.\",\n",
       "       'Lush cedary black-fruit aromas are luxe and offer notes of marzipan and vanilla. This bruiser is massive and tannic on the palate, but still lush and friendly. Chocolate is a key flavor, while baked berry and cassis flavors are hardly wallflowers. On the finish, this is tannic and deep as a sea trench. Drink this saturated black-colored Toro through 2023.',\n",
       "       \"This re-named vineyard was formerly bottled as deLancellotti. You'll find striking minerality underscoring chunky black fruits. Accents of citrus and graphite comingle, with exceptional midpalate concentration. This is a wine to cellar, though it is already quite enjoyable. Drink now through 2030.\",\n",
       "       'The producer sources from two blocks of the vineyard for this wine—one at a high elevation, which contributes bright acidity. Crunchy cranberry, pomegranate and orange peel flavors surround silky, succulent layers of texture that present as fleshy fruit. That delicately lush flavor has considerable length.'], dtype=object)"
      ]
     },
     "execution_count": 151,
     "metadata": {},
     "output_type": "execute_result"
    }
   ],
   "source": [
    "docs"
   ]
  },
  {
   "cell_type": "code",
   "execution_count": 118,
   "metadata": {},
   "outputs": [],
   "source": [
    "s = ''\n",
    "with open(\"C:/Users/Maha/Desktop/corpus/corpus.txt\", \"w\") as f:\n",
    "    for i in a['description'].values:        \n",
    "        s = s + '\\n' + i\n",
    "    f.write(s)\n",
    "    f.close()"
   ]
  },
  {
   "cell_type": "code",
   "execution_count": 119,
   "metadata": {},
   "outputs": [],
   "source": [
    "import nltk\n",
    "import string\n",
    "from nltk.corpus import stopwords\n",
    "file = open(\"C:/Users/Maha/Desktop/corpus/corpus.txt\", \"r\",encoding='utf-8', errors='ignore')\n",
    "raw = file.read()\n",
    "tokens = nltk.regexp_tokenize(raw, \"\\w+\")\n",
    "words = [w.lower for w in tokens]\n",
    "filtered = [w.lower() for w in tokens if not w.lower() in ENGLISH_STOP_WORDS]\n",
    "vocab = sorted(set(filtered))\n"
   ]
  },
  {
   "cell_type": "code",
   "execution_count": 120,
   "metadata": {},
   "outputs": [
    {
     "name": "stdout",
     "output_type": "stream",
     "text": [
      "10\n"
     ]
    }
   ],
   "source": [
    "l = len(docs)\n",
    "print(l)"
   ]
  },
  {
   "cell_type": "code",
   "execution_count": 121,
   "metadata": {},
   "outputs": [],
   "source": [
    "import math\n",
    "\n",
    "fdict = {}\n",
    "fdict = dict.fromkeys(vocab,0)\n",
    "for d in docs:\n",
    "    tokens = nltk.regexp_tokenize(d, \"\\w+\")\n",
    "    words = [w.lower() for w in tokens if not w.lower() in ENGLISH_STOP_WORDS]\n",
    "    vocab_sentence = sorted(set(words))\n",
    "    for v in vocab_sentence:\n",
    "        if v in vocab:\n",
    "            fdict[v] = fdict[v] + 1\n",
    "\n",
    "for key, value in fdict.items():\n",
    "    if value != 0:\n",
    "        fdict[key] = 1/(math.log10(l/value))\n",
    "    else:\n",
    "        fdict[key] = 0\n"
   ]
  },
  {
   "cell_type": "code",
   "execution_count": 122,
   "metadata": {
    "collapsed": true
   },
   "outputs": [],
   "source": [
    "import operator\n",
    "sorted_by_value = sorted(fdict.items(), key=lambda kv: kv[1])"
   ]
  },
  {
   "cell_type": "code",
   "execution_count": 123,
   "metadata": {},
   "outputs": [],
   "source": [
    "sorted_by_value.reverse()"
   ]
  },
  {
   "cell_type": "code",
   "execution_count": 124,
   "metadata": {},
   "outputs": [],
   "source": [
    "selected_features = { k:v for k, v in fdict.items() if v > 0.5 }"
   ]
  },
  {
   "cell_type": "code",
   "execution_count": 147,
   "metadata": {},
   "outputs": [
    {
     "data": {
      "text/plain": [
       "dict_keys(['sweetened', 'oak', 'pure', 'heady', 'black', '122', 'comingle', 'slathering', 'long', 'feet', 'toasty', 'memory', 'cushioned', 'delicately', 'box', 'layered', 'colored', 'coffee', 'offer', 'spices', 'note', '2030', 'pastry', 'hails', 'slightly', 'wall', '2020', 'length', 'friendly', 'marzipan', 'fig', 'nicely', 'elevation', 'dark', 'bottled', 'cherry', 'mac', 'calming', 'wallflowers', 'tremendous', 'flavors', 'vanilla', 'start', 'gritty', 'blends', 'delicious', 'develop', 'enjoy', 'giscours', 'vineyard', 'settles', 'oaked', 'sweet', '1200', 'bell', 'ahead', 'crunchy', 'texture', 'baked', 'spicy', 'blocks', 'toast', 'background', 'toro', 'produced', 'enjoyable', 'structure', '2024', 'll', 'pomegranate', '20', 'exceptional', 'aging', 'quite', 'frame', 'compote', 'white', 'oakville', 'sources', 'ensures', 'espresso', 'considerable', 'hazelnut', 'midpalate', 'incorporates', 'watson', 'minerality', 'tannic', 'luxe', 'fine', 'ponzi', 'blackberry', 'gold', 'vineyards', 'highly', 'g', 'minty', 'hardly', 'aurora', 'high', 'sheen', 'finish', 'cassis', 'nuance', 'fleshy', 'aromas', 'elegant', 'ideally', 'dense', 'concentration', 'honors', 'point', 'cigar', 'chocolaty', 'rich', 'peel', 'drink', 'delancellotti', 'oaky', 'cranberry', 'mouth', 'accents', 'corners', 'moderately', 'opening', 'toasted', 'extra', 'silky', 'madrona', 'spent', 'months', 'juicy', 'feels', 'abetina', 'massive', 'aromatic', 'impressive', 'family', 'succulent', 'winner', 'rewarding', 'margaux', 'deftly', 'varietal', 'density', 'la', 'trench', 'covered', 'orange', 'notes', 'complex', 'named', 'polished', 'flavor', '2032', 'cellar', 'bright', 'palate', 'intense', 'prune', 'everlasting', 'saturation', 'sugar', 'producer', 'botrytised', 'greet', 'exemplary', 'sea', 'cedary', 'french', 'acidity', 'present', 'richness', 'tari', '18', '100', 'succulence', 'wood', 'tannins', 'subtle', '30', 'chocolate', 'mother', 'expressive', 'layers', 'include', 'lush', 'highest', 'deep', 'ripe', 'chunky', 'baking', 'contributes', 'fruit', 'fruits', 'citrus', 'mocha', 'striking', 'years', 'berry', 'tone', 'developing', 'balanced', 'l', 'pear', 'key', 'red', 'hint', 'surround', 'framed', 'graphite', 'saturated', 'underscoring', '2023', 'sensationally', 'reveling', 'new', 'smooth', 'residual', 'loaded', 'softened', 'cool', 'aged', 'bruiser', 'wine', 'color', 's', 'compelling', 'caramel', 'tremendously'])"
      ]
     },
     "execution_count": 147,
     "metadata": {},
     "output_type": "execute_result"
    }
   ],
   "source": [
    "selected_features.keys()"
   ]
  },
  {
   "cell_type": "code",
   "execution_count": 148,
   "metadata": {},
   "outputs": [],
   "source": [
    "a_new = pd.concat([a,pd.DataFrame(columns=selected_features.keys())])\n",
    "a_new_nonzeros = a_new.fillna(0)"
   ]
  },
  {
   "cell_type": "code",
   "execution_count": 152,
   "metadata": {},
   "outputs": [
    {
     "name": "stderr",
     "output_type": "stream",
     "text": [
      "C:\\Users\\Maha\\Anaconda3\\lib\\site-packages\\ipykernel\\__main__.py:7: SettingWithCopyWarning: \n",
      "A value is trying to be set on a copy of a slice from a DataFrame\n",
      "\n",
      "See the caveats in the documentation: http://pandas.pydata.org/pandas-docs/stable/indexing.html#indexing-view-versus-copy\n"
     ]
    }
   ],
   "source": [
    "for index, row in a_new_nonzeros.iterrows():\n",
    "    for item in selected_features.keys():\n",
    "        tokens = nltk.regexp_tokenize(d, \"\\w+\")\n",
    "        words = [w.lower() for w in tokens if not w.lower() in ENGLISH_STOP_WORDS]\n",
    "        vocab_sentence = sorted(set(words))\n",
    "        if item in vocab_sentence:\n",
    "            a_new_nonzeros[item][index] = 1"
   ]
  },
  {
   "cell_type": "code",
   "execution_count": 153,
   "metadata": {},
   "outputs": [
    {
     "data": {
      "text/html": [
       "<div>\n",
       "<table border=\"1\" class=\"dataframe\">\n",
       "  <thead>\n",
       "    <tr style=\"text-align: right;\">\n",
       "      <th></th>\n",
       "      <th>100</th>\n",
       "      <th>1200</th>\n",
       "      <th>122</th>\n",
       "      <th>18</th>\n",
       "      <th>20</th>\n",
       "      <th>2020</th>\n",
       "      <th>2023</th>\n",
       "      <th>2024</th>\n",
       "      <th>2030</th>\n",
       "      <th>2032</th>\n",
       "      <th>...</th>\n",
       "      <th>vineyards</th>\n",
       "      <th>wall</th>\n",
       "      <th>wallflowers</th>\n",
       "      <th>watson</th>\n",
       "      <th>white</th>\n",
       "      <th>wine</th>\n",
       "      <th>winery</th>\n",
       "      <th>winner</th>\n",
       "      <th>wood</th>\n",
       "      <th>years</th>\n",
       "    </tr>\n",
       "  </thead>\n",
       "  <tbody>\n",
       "    <tr>\n",
       "      <th>0</th>\n",
       "      <td>1</td>\n",
       "      <td>0</td>\n",
       "      <td>0</td>\n",
       "      <td>0</td>\n",
       "      <td>1</td>\n",
       "      <td>0</td>\n",
       "      <td>0</td>\n",
       "      <td>0</td>\n",
       "      <td>1</td>\n",
       "      <td>0</td>\n",
       "      <td>...</td>\n",
       "      <td>0</td>\n",
       "      <td>0</td>\n",
       "      <td>0</td>\n",
       "      <td>0</td>\n",
       "      <td>0</td>\n",
       "      <td>1</td>\n",
       "      <td>Heitz</td>\n",
       "      <td>0</td>\n",
       "      <td>0</td>\n",
       "      <td>1</td>\n",
       "    </tr>\n",
       "    <tr>\n",
       "      <th>1</th>\n",
       "      <td>0</td>\n",
       "      <td>0</td>\n",
       "      <td>0</td>\n",
       "      <td>0</td>\n",
       "      <td>1</td>\n",
       "      <td>0</td>\n",
       "      <td>1</td>\n",
       "      <td>0</td>\n",
       "      <td>0</td>\n",
       "      <td>0</td>\n",
       "      <td>...</td>\n",
       "      <td>0</td>\n",
       "      <td>0</td>\n",
       "      <td>0</td>\n",
       "      <td>0</td>\n",
       "      <td>0</td>\n",
       "      <td>1</td>\n",
       "      <td>Bodega Carmen Rodríguez</td>\n",
       "      <td>0</td>\n",
       "      <td>0</td>\n",
       "      <td>0</td>\n",
       "    </tr>\n",
       "    <tr>\n",
       "      <th>2</th>\n",
       "      <td>0</td>\n",
       "      <td>0</td>\n",
       "      <td>1</td>\n",
       "      <td>0</td>\n",
       "      <td>0</td>\n",
       "      <td>0</td>\n",
       "      <td>0</td>\n",
       "      <td>0</td>\n",
       "      <td>0</td>\n",
       "      <td>0</td>\n",
       "      <td>...</td>\n",
       "      <td>0</td>\n",
       "      <td>0</td>\n",
       "      <td>0</td>\n",
       "      <td>0</td>\n",
       "      <td>1</td>\n",
       "      <td>1</td>\n",
       "      <td>Macauley</td>\n",
       "      <td>0</td>\n",
       "      <td>0</td>\n",
       "      <td>0</td>\n",
       "    </tr>\n",
       "    <tr>\n",
       "      <th>3</th>\n",
       "      <td>0</td>\n",
       "      <td>0</td>\n",
       "      <td>0</td>\n",
       "      <td>0</td>\n",
       "      <td>1</td>\n",
       "      <td>0</td>\n",
       "      <td>0</td>\n",
       "      <td>0</td>\n",
       "      <td>0</td>\n",
       "      <td>1</td>\n",
       "      <td>...</td>\n",
       "      <td>1</td>\n",
       "      <td>0</td>\n",
       "      <td>0</td>\n",
       "      <td>0</td>\n",
       "      <td>0</td>\n",
       "      <td>1</td>\n",
       "      <td>Ponzi</td>\n",
       "      <td>0</td>\n",
       "      <td>0</td>\n",
       "      <td>0</td>\n",
       "    </tr>\n",
       "    <tr>\n",
       "      <th>4</th>\n",
       "      <td>0</td>\n",
       "      <td>1</td>\n",
       "      <td>0</td>\n",
       "      <td>1</td>\n",
       "      <td>1</td>\n",
       "      <td>1</td>\n",
       "      <td>0</td>\n",
       "      <td>0</td>\n",
       "      <td>0</td>\n",
       "      <td>0</td>\n",
       "      <td>...</td>\n",
       "      <td>0</td>\n",
       "      <td>0</td>\n",
       "      <td>0</td>\n",
       "      <td>0</td>\n",
       "      <td>0</td>\n",
       "      <td>1</td>\n",
       "      <td>Domaine de la Bégude</td>\n",
       "      <td>0</td>\n",
       "      <td>1</td>\n",
       "      <td>0</td>\n",
       "    </tr>\n",
       "    <tr>\n",
       "      <th>5</th>\n",
       "      <td>0</td>\n",
       "      <td>0</td>\n",
       "      <td>0</td>\n",
       "      <td>0</td>\n",
       "      <td>1</td>\n",
       "      <td>0</td>\n",
       "      <td>1</td>\n",
       "      <td>0</td>\n",
       "      <td>0</td>\n",
       "      <td>0</td>\n",
       "      <td>...</td>\n",
       "      <td>0</td>\n",
       "      <td>0</td>\n",
       "      <td>0</td>\n",
       "      <td>0</td>\n",
       "      <td>0</td>\n",
       "      <td>1</td>\n",
       "      <td>Numanthia</td>\n",
       "      <td>1</td>\n",
       "      <td>0</td>\n",
       "      <td>0</td>\n",
       "    </tr>\n",
       "    <tr>\n",
       "      <th>6</th>\n",
       "      <td>0</td>\n",
       "      <td>0</td>\n",
       "      <td>0</td>\n",
       "      <td>0</td>\n",
       "      <td>1</td>\n",
       "      <td>0</td>\n",
       "      <td>0</td>\n",
       "      <td>1</td>\n",
       "      <td>0</td>\n",
       "      <td>0</td>\n",
       "      <td>...</td>\n",
       "      <td>0</td>\n",
       "      <td>1</td>\n",
       "      <td>0</td>\n",
       "      <td>0</td>\n",
       "      <td>0</td>\n",
       "      <td>1</td>\n",
       "      <td>Maurodos</td>\n",
       "      <td>0</td>\n",
       "      <td>0</td>\n",
       "      <td>0</td>\n",
       "    </tr>\n",
       "    <tr>\n",
       "      <th>7</th>\n",
       "      <td>0</td>\n",
       "      <td>0</td>\n",
       "      <td>0</td>\n",
       "      <td>0</td>\n",
       "      <td>1</td>\n",
       "      <td>0</td>\n",
       "      <td>1</td>\n",
       "      <td>0</td>\n",
       "      <td>0</td>\n",
       "      <td>0</td>\n",
       "      <td>...</td>\n",
       "      <td>0</td>\n",
       "      <td>1</td>\n",
       "      <td>1</td>\n",
       "      <td>0</td>\n",
       "      <td>0</td>\n",
       "      <td>1</td>\n",
       "      <td>Bodega Carmen Rodríguez</td>\n",
       "      <td>0</td>\n",
       "      <td>0</td>\n",
       "      <td>0</td>\n",
       "    </tr>\n",
       "    <tr>\n",
       "      <th>8</th>\n",
       "      <td>0</td>\n",
       "      <td>0</td>\n",
       "      <td>0</td>\n",
       "      <td>0</td>\n",
       "      <td>1</td>\n",
       "      <td>0</td>\n",
       "      <td>0</td>\n",
       "      <td>0</td>\n",
       "      <td>1</td>\n",
       "      <td>0</td>\n",
       "      <td>...</td>\n",
       "      <td>0</td>\n",
       "      <td>0</td>\n",
       "      <td>0</td>\n",
       "      <td>0</td>\n",
       "      <td>0</td>\n",
       "      <td>1</td>\n",
       "      <td>Bergström</td>\n",
       "      <td>0</td>\n",
       "      <td>0</td>\n",
       "      <td>0</td>\n",
       "    </tr>\n",
       "    <tr>\n",
       "      <th>9</th>\n",
       "      <td>0</td>\n",
       "      <td>0</td>\n",
       "      <td>0</td>\n",
       "      <td>0</td>\n",
       "      <td>0</td>\n",
       "      <td>0</td>\n",
       "      <td>0</td>\n",
       "      <td>0</td>\n",
       "      <td>0</td>\n",
       "      <td>0</td>\n",
       "      <td>...</td>\n",
       "      <td>0</td>\n",
       "      <td>0</td>\n",
       "      <td>0</td>\n",
       "      <td>0</td>\n",
       "      <td>0</td>\n",
       "      <td>1</td>\n",
       "      <td>Blue Farm</td>\n",
       "      <td>0</td>\n",
       "      <td>0</td>\n",
       "      <td>0</td>\n",
       "    </tr>\n",
       "  </tbody>\n",
       "</table>\n",
       "<p>10 rows × 241 columns</p>\n",
       "</div>"
      ],
      "text/plain": [
       "   100  1200  122  18  20  2020  2023  2024  2030  2032  ...    vineyards  \\\n",
       "0    1     0    0   0   1     0     0     0     1     0  ...            0   \n",
       "1    0     0    0   0   1     0     1     0     0     0  ...            0   \n",
       "2    0     0    1   0   0     0     0     0     0     0  ...            0   \n",
       "3    0     0    0   0   1     0     0     0     0     1  ...            1   \n",
       "4    0     1    0   1   1     1     0     0     0     0  ...            0   \n",
       "5    0     0    0   0   1     0     1     0     0     0  ...            0   \n",
       "6    0     0    0   0   1     0     0     1     0     0  ...            0   \n",
       "7    0     0    0   0   1     0     1     0     0     0  ...            0   \n",
       "8    0     0    0   0   1     0     0     0     1     0  ...            0   \n",
       "9    0     0    0   0   0     0     0     0     0     0  ...            0   \n",
       "\n",
       "   wall  wallflowers  watson  white  wine                   winery  winner  \\\n",
       "0     0            0       0      0     1                    Heitz       0   \n",
       "1     0            0       0      0     1  Bodega Carmen Rodríguez       0   \n",
       "2     0            0       0      1     1                 Macauley       0   \n",
       "3     0            0       0      0     1                    Ponzi       0   \n",
       "4     0            0       0      0     1     Domaine de la Bégude       0   \n",
       "5     0            0       0      0     1                Numanthia       1   \n",
       "6     1            0       0      0     1                 Maurodos       0   \n",
       "7     1            1       0      0     1  Bodega Carmen Rodríguez       0   \n",
       "8     0            0       0      0     1                Bergström       0   \n",
       "9     0            0       0      0     1                Blue Farm       0   \n",
       "\n",
       "   wood  years  \n",
       "0     0      1  \n",
       "1     0      0  \n",
       "2     0      0  \n",
       "3     0      0  \n",
       "4     1      0  \n",
       "5     0      0  \n",
       "6     0      0  \n",
       "7     0      0  \n",
       "8     0      0  \n",
       "9     0      0  \n",
       "\n",
       "[10 rows x 241 columns]"
      ]
     },
     "execution_count": 153,
     "metadata": {},
     "output_type": "execute_result"
    }
   ],
   "source": [
    "a_new_nonzeros"
   ]
  },
  {
   "cell_type": "code",
   "execution_count": null,
   "metadata": {
    "collapsed": true
   },
   "outputs": [],
   "source": []
  }
 ],
 "metadata": {
  "anaconda-cloud": {},
  "kernelspec": {
   "display_name": "Python 3",
   "language": "python",
   "name": "python3"
  },
  "language_info": {
   "codemirror_mode": {
    "name": "ipython",
    "version": 3
   },
   "file_extension": ".py",
   "mimetype": "text/x-python",
   "name": "python",
   "nbconvert_exporter": "python",
   "pygments_lexer": "ipython3",
   "version": "3.6.5"
  }
 },
 "nbformat": 4,
 "nbformat_minor": 1
}
