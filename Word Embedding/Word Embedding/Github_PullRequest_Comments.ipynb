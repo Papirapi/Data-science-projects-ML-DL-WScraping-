{
 "cells": [
  {
   "cell_type": "markdown",
   "metadata": {},
   "source": [
    "# GitHub Comments Pull_Request"
   ]
  },
  {
   "cell_type": "code",
   "execution_count": 1,
   "metadata": {},
   "outputs": [],
   "source": [
    "##Startng by importing the necessary libraries\n",
    "\n",
    "import pandas as pd\n",
    "import numpy as np\n",
    "import matplotlib.pyplot as plt\n",
    "import re\n",
    "from nltk.corpus import stopwords\n",
    "import spacy\n",
    "from time import time\n",
    "from __future__ import print_function\n",
    "from sklearn.feature_extraction.text import TfidfVectorizer\n",
    "from sklearn.feature_extraction.text import HashingVectorizer\n",
    "from sklearn.feature_extraction.text import TfidfTransformer\n",
    "from sklearn.datasets import fetch_20newsgroups\n",
    "from sklearn.decomposition import TruncatedSVD\n",
    "from sklearn.pipeline import make_pipeline\n",
    "from sklearn.preprocessing import Normalizer\n",
    "from sklearn import metrics\n",
    "from sklearn.cluster import MiniBatchKMeans"
   ]
  },
  {
   "cell_type": "code",
   "execution_count": 2,
   "metadata": {},
   "outputs": [],
   "source": [
    "##Let's Load the dataset\n",
    "df = pd.read_csv('C:/Users/Grand/Downloads/github_comments.tsv', sep='\\t', \n",
    "                                     parse_dates = ['comment_date',\n",
    "                                                    'merged_at'\n",
    "                                                   ],\n",
    "                                     encoding=\"utf-8-sig\")"
   ]
  },
  {
   "cell_type": "code",
   "execution_count": 3,
   "metadata": {},
   "outputs": [
    {
     "data": {
      "text/html": [
       "<div>\n",
       "<style scoped>\n",
       "    .dataframe tbody tr th:only-of-type {\n",
       "        vertical-align: middle;\n",
       "    }\n",
       "\n",
       "    .dataframe tbody tr th {\n",
       "        vertical-align: top;\n",
       "    }\n",
       "\n",
       "    .dataframe thead th {\n",
       "        text-align: right;\n",
       "    }\n",
       "</style>\n",
       "<table border=\"1\" class=\"dataframe\">\n",
       "  <thead>\n",
       "    <tr style=\"text-align: right;\">\n",
       "      <th></th>\n",
       "      <th>Unnamed: 0</th>\n",
       "      <th>comment</th>\n",
       "      <th>comment_date</th>\n",
       "      <th>is_merged</th>\n",
       "      <th>merged_at</th>\n",
       "      <th>request_changes</th>\n",
       "    </tr>\n",
       "  </thead>\n",
       "  <tbody>\n",
       "    <tr>\n",
       "      <th>0</th>\n",
       "      <td>0</td>\n",
       "      <td>@chef/maintainers</td>\n",
       "      <td>2017-05-29 10:54:23</td>\n",
       "      <td>0.0</td>\n",
       "      <td>NaT</td>\n",
       "      <td>0</td>\n",
       "    </tr>\n",
       "    <tr>\n",
       "      <th>1</th>\n",
       "      <td>1</td>\n",
       "      <td>omnibus builds are already in pain so merging ...</td>\n",
       "      <td>2017-05-25 20:34:45</td>\n",
       "      <td>1.0</td>\n",
       "      <td>2017-05-25 20:34:27</td>\n",
       "      <td>0</td>\n",
       "    </tr>\n",
       "    <tr>\n",
       "      <th>2</th>\n",
       "      <td>2</td>\n",
       "      <td>@chef/client-core reviewage (lets not think to...</td>\n",
       "      <td>2017-05-25 17:21:56</td>\n",
       "      <td>1.0</td>\n",
       "      <td>2017-05-25 19:05:10</td>\n",
       "      <td>0</td>\n",
       "    </tr>\n",
       "    <tr>\n",
       "      <th>3</th>\n",
       "      <td>3</td>\n",
       "      <td>This blows up 14.04 because allow-downgrades i...</td>\n",
       "      <td>2017-05-25 19:15:14</td>\n",
       "      <td>0.0</td>\n",
       "      <td>NaT</td>\n",
       "      <td>1</td>\n",
       "    </tr>\n",
       "    <tr>\n",
       "      <th>4</th>\n",
       "      <td>4</td>\n",
       "      <td>I know @lamont-granquist and @thommay  are goi...</td>\n",
       "      <td>2017-05-23 22:58:13</td>\n",
       "      <td>1.0</td>\n",
       "      <td>2017-05-24 04:40:42</td>\n",
       "      <td>0</td>\n",
       "    </tr>\n",
       "  </tbody>\n",
       "</table>\n",
       "</div>"
      ],
      "text/plain": [
       "   Unnamed: 0                                            comment  \\\n",
       "0           0                                 @chef/maintainers    \n",
       "1           1  omnibus builds are already in pain so merging ...   \n",
       "2           2  @chef/client-core reviewage (lets not think to...   \n",
       "3           3  This blows up 14.04 because allow-downgrades i...   \n",
       "4           4  I know @lamont-granquist and @thommay  are goi...   \n",
       "\n",
       "         comment_date  is_merged           merged_at  request_changes  \n",
       "0 2017-05-29 10:54:23        0.0                 NaT                0  \n",
       "1 2017-05-25 20:34:45        1.0 2017-05-25 20:34:27                0  \n",
       "2 2017-05-25 17:21:56        1.0 2017-05-25 19:05:10                0  \n",
       "3 2017-05-25 19:15:14        0.0                 NaT                1  \n",
       "4 2017-05-23 22:58:13        1.0 2017-05-24 04:40:42                0  "
      ]
     },
     "execution_count": 3,
     "metadata": {},
     "output_type": "execute_result"
    }
   ],
   "source": [
    "df.head()"
   ]
  },
  {
   "cell_type": "code",
   "execution_count": 4,
   "metadata": {},
   "outputs": [],
   "source": [
    "##Filling the NAN values with 0 \n",
    "df.fillna(0, inplace=True)"
   ]
  },
  {
   "cell_type": "code",
   "execution_count": 5,
   "metadata": {},
   "outputs": [],
   "source": [
    "##To distinguish if the change has been made after a request or not; we can know for sure if it blocking\n",
    "##The Pull Request(PR) or not.\n",
    "change_request_comments= df[df['request_changes'].isin([True])]\n",
    "no_change_request_comments = df[df['request_changes'].isin([False])]\n",
    "blocking_PR = change_request_comments[change_request_comments['is_merged'].isin([False])]\n",
    "not_blocking_PR = no_change_request_comments[no_change_request_comments['is_merged'].isin([True])]"
   ]
  },
  {
   "cell_type": "markdown",
   "metadata": {},
   "source": [
    "# What are the most common problems that appear in these comments?"
   ]
  },
  {
   "cell_type": "code",
   "execution_count": 6,
   "metadata": {},
   "outputs": [],
   "source": [
    "#We need to find the most commun topic"
   ]
  },
  {
   "cell_type": "code",
   "execution_count": 7,
   "metadata": {},
   "outputs": [],
   "source": [
    "#Removing @Tag\n",
    "df.comment = df['comment'].apply(lambda x:re.sub('@[\\w.$/-]+','',x))"
   ]
  },
  {
   "cell_type": "code",
   "execution_count": 8,
   "metadata": {},
   "outputs": [
    {
     "data": {
      "text/plain": [
       "0                                                     \n",
       "1    omnibus builds are already in pain so merging ...\n",
       "2    reviewage (lets not think too hard about the b...\n",
       "3    this blows up 14.04 because allow-downgrades i...\n",
       "4    i know and are going to be unhappy about this ...\n",
       "Name: comment, dtype: object"
      ]
     },
     "execution_count": 8,
     "metadata": {},
     "output_type": "execute_result"
    }
   ],
   "source": [
    "#lower-case\n",
    "df['comment'] = df['comment'].apply(lambda x: \" \".join(x.lower() for x in x.split()))\n",
    "df['comment'].head()"
   ]
  },
  {
   "cell_type": "code",
   "execution_count": 9,
   "metadata": {},
   "outputs": [
    {
     "data": {
      "text/plain": [
       "0                                                     \n",
       "1    omnibus builds are already in pain so merging ...\n",
       "2    reviewage lets not think too hard about the br...\n",
       "3    this blows up 14.04 because allowdowngrades is...\n",
       "4    i know and are going to be unhappy about this ...\n",
       "Name: comment, dtype: object"
      ]
     },
     "execution_count": 9,
     "metadata": {},
     "output_type": "execute_result"
    }
   ],
   "source": [
    "#Removing Punctuation-modified\n",
    "df['comment'] = df['comment'].str.replace('[^\\w\\s.]','')\n",
    "df['comment'].head()"
   ]
  },
  {
   "cell_type": "code",
   "execution_count": 10,
   "metadata": {},
   "outputs": [
    {
     "data": {
      "text/plain": [
       "'the  hack might be too much would be cool if everyone else wants to just do the fancy  operator and skip the case magic.'"
      ]
     },
     "execution_count": 10,
     "metadata": {},
     "output_type": "execute_result"
    }
   ],
   "source": [
    "df.comment[10]"
   ]
  },
  {
   "cell_type": "code",
   "execution_count": 11,
   "metadata": {},
   "outputs": [],
   "source": [
    "nlp = spacy.load('en')\n",
    "def findingTopics(row): \n",
    "    issue = nlp(row)\n",
    "    return [chunk.root.lemma_ for chunk in issue.noun_chunks \n",
    "             if (lambda c: c.root.pos_ not in ['PRON'] and  \n",
    "                 c.root.dep_ not in ['ROOT'] and\n",
    "                 c.root.ent_type_ not in ['DATE','TIME','WORK_OF_ART','QUANTITY'] and\n",
    "                 re.search('[^a-zA-Z\\d\\s:]',c.root.lemma_) is None)(chunk)]"
   ]
  },
  {
   "cell_type": "code",
   "execution_count": 28,
   "metadata": {},
   "outputs": [
    {
     "data": {
      "text/plain": [
       "3              [downgrade, version, ubuntu, debian, flag]\n",
       "15                [error, user, cookbook, error, warning]\n",
       "20      [problem, stub, line, argument, case, box, fip...\n",
       "29      [what, problem, problem, change, doc, doc, mem...\n",
       "30                            [thing, user, depth, error]\n",
       "32                                    [chef, deprecation]\n",
       "37                                               [server]\n",
       "48      [type, compatibility, type, xml, xml, applicat...\n",
       "50      [check, part, xml, xml, type, thing, image, ap...\n",
       "52                                   [pr, change, detail]\n",
       "60      [pr, constructor, constructor, thing, constrai...\n",
       "61      [apology, issue, exceptionininitializererror, ...\n",
       "62      [sense, missingresourceexception, description,...\n",
       "67                        [file, update, test, operation]\n",
       "68           [something, update, dungeon, commit, ending]\n",
       "72                                                     []\n",
       "73      [macro, docs, macro, tradition, name, asciidoc...\n",
       "75                                                [fetch]\n",
       "76                               [readability, something]\n",
       "77                                        [interpolation]\n",
       "78                                        [interpolation]\n",
       "79                                                [class]\n",
       "80                  [preference, content, file, resource]\n",
       "83      [class, issue, solution, lambda, answer, docs,...\n",
       "84      [pr, simplicity, abstraction, something, comma...\n",
       "86      [snippet, break, following, formatter, foo, po...\n",
       "92      [implementation, box, concatenatingcommandform...\n",
       "94                [variant, method, formatter, attribute]\n",
       "95                [variant, method, formatter, attribute]\n",
       "96                                                 [test]\n",
       "                              ...                        \n",
       "3906    [implementation, group, typemirror, value, gro...\n",
       "3912                                        [description]\n",
       "3916            [file, issue, language, fact, constraint]\n",
       "3917                                         [constraint]\n",
       "3929    [question, class, code, collection, example, i...\n",
       "3932    [type, case, validateproperty, bv, type, type,...\n",
       "3933    [getvalue, line, thing, what, method, conditio...\n",
       "3938     [annotation, flag, pattern, idea, pattern, part]\n",
       "3939    [format, number, tostring, representation, num...\n",
       "3940                          [dependency, pattern, fqcn]\n",
       "3941    [decimalformat, what, format, string, string, ...\n",
       "3944                                    [typo, exception]\n",
       "3945                                              [value]\n",
       "3947                                        [way, format]\n",
       "3948                        [value, value, number, value]\n",
       "3949    [message, parameter, example, something, repre...\n",
       "3950                                      [mind, javadoc]\n",
       "3951                                        [usage, user]\n",
       "3958                                             [method]\n",
       "3968    [what, idea, api, api, logic, request, impleme...\n",
       "3973    [step, end, object, type, user, expression, eq...\n",
       "3982                           [descriptor, lambda, case]\n",
       "3984                              [constructor, variable]\n",
       "3986                                    [javadoc, remark]\n",
       "3987                                        [love, order]\n",
       "3988                        [validatordescriptor, naming]\n",
       "3991                                   [name, descriptor]\n",
       "3997                                               [line]\n",
       "3998                                                [one]\n",
       "3999      [comment, method, classmate, sense, risk, rest]\n",
       "Name: comment, Length: 936, dtype: object"
      ]
     },
     "execution_count": 28,
     "metadata": {},
     "output_type": "execute_result"
    }
   ],
   "source": [
    "blocking_PR['comment'].apply(findingTopics)"
   ]
  },
  {
   "cell_type": "code",
   "execution_count": 14,
   "metadata": {},
   "outputs": [
    {
     "data": {
      "text/plain": [
       "['clidocumentation',\n",
       " 'aspect',\n",
       " 'client',\n",
       " 'area',\n",
       " 'byte',\n",
       " 'backend',\n",
       " 'artifact',\n",
       " 'behaviour',\n",
       " 'entry',\n",
       " 'block',\n",
       " 'cassandra',\n",
       " 'course',\n",
       " 'enum',\n",
       " 'break',\n",
       " 'expiringsession',\n",
       " 'answer',\n",
       " 'group',\n",
       " 'intent',\n",
       " 'call',\n",
       " 'improvement']"
      ]
     },
     "execution_count": 14,
     "metadata": {},
     "output_type": "execute_result"
    }
   ],
   "source": [
    "##Sentence vectorization\n",
    "vectorizer = TfidfVectorizer( max_features=100,\n",
    "                              analyzer = findingTopics,\n",
    "                              max_df = 5,\n",
    "                              stop_words='english',\n",
    "                              vocabulary = None,\n",
    "                              use_idf=True)\n",
    "blocking_PR_List = blocking_PR['comment'].tolist()\n",
    "X = vectorizer.fit_transform(blocking_PR_List)\n",
    "#LSA :(Latent semantic analysis)\n",
    "svd = TruncatedSVD(70)\n",
    "normalizer = Normalizer(copy=False)\n",
    "lsa = make_pipeline(svd, normalizer)\n",
    "X = lsa.fit_transform(X)\n",
    "terms = vectorizer.get_feature_names()\n",
    "weights =  X.sum(axis=0)\n",
    "weightIndices = weights.argsort()[::-1]\n",
    "[terms[i] for i in weightIndices[:20]] "
   ]
  },
  {
   "cell_type": "markdown",
   "metadata": {},
   "source": [
    "# Can we cluster the problems by topic/problem type?"
   ]
  },
  {
   "cell_type": "code",
   "execution_count": 15,
   "metadata": {},
   "outputs": [],
   "source": [
    "##Clustering"
   ]
  },
  {
   "cell_type": "code",
   "execution_count": 16,
   "metadata": {},
   "outputs": [],
   "source": [
    "## Let's use the kmeans minibatch\n",
    "km = MiniBatchKMeans(n_clusters=50, init='k-means++', n_init=1,\n",
    "                     init_size=100, batch_size=100, verbose=False)\n",
    "km.fit(X)\n",
    "original_space_centroids = svd.inverse_transform(km.cluster_centers_)\n",
    "order_centroids = original_space_centroids.argsort()[:, ::-1]\n",
    "clusterLabels = [ [terms [i] for i in indexes] for indexes in [ cIndex[:5] for cIndex in order_centroids ]]"
   ]
  },
  {
   "cell_type": "code",
   "execution_count": 25,
   "metadata": {},
   "outputs": [
    {
     "name": "stdout",
     "output_type": "stream",
     "text": [
      "the cluster for blocking_PR: 'This makes me nervous as a structural thing. If a user requests a depth, we should probably honor that or error clearly.' is '['cassandra', 'improvement', 'entry', 'setter', 'separator']\n"
     ]
    }
   ],
   "source": [
    "#Example\n",
    "issueIdx = 4\n",
    "print(\"the cluster for blocking_PR: '{0}' is '{1}\".format(blocking_PR_List[issueIdx],clusterLabels[km.labels_[issueIdx]]))"
   ]
  },
  {
   "cell_type": "markdown",
   "metadata": {},
   "source": [
    "# How long is the resolution time after a change was requested?"
   ]
  },
  {
   "cell_type": "code",
   "execution_count": 27,
   "metadata": {},
   "outputs": [
    {
     "name": "stdout",
     "output_type": "stream",
     "text": [
      "The resolution time after a change was requested is 3 days 05:11:29.036334\n"
     ]
    }
   ],
   "source": [
    "## We will compute the mean time differences between PR merged after a comment and comment date \n",
    "\n",
    "merged_LastComment = not_blocking_PR[not_blocking_PR.apply(lambda row: row['merged_at'] >= row['comment_date'],  axis=1)]\n",
    "changes = merged_LastComment.apply(lambda row:row['merged_at'] - row['comment_date'], axis=1)\n",
    "print(\"The resolution time after a change was requested is {0}\".format(changes.mean()))"
   ]
  },
  {
   "cell_type": "code",
   "execution_count": null,
   "metadata": {},
   "outputs": [],
   "source": []
  }
 ],
 "metadata": {
  "kernelspec": {
   "display_name": "Python 3",
   "language": "python",
   "name": "python3"
  },
  "language_info": {
   "codemirror_mode": {
    "name": "ipython",
    "version": 3
   },
   "file_extension": ".py",
   "mimetype": "text/x-python",
   "name": "python",
   "nbconvert_exporter": "python",
   "pygments_lexer": "ipython3",
   "version": "3.6.5"
  }
 },
 "nbformat": 4,
 "nbformat_minor": 2
}
